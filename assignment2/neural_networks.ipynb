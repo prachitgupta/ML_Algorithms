{
 "cells": [
  {
   "cell_type": "markdown",
   "metadata": {},
   "source": [
    "Q1) Prelimanary overview =  the two datasets contain involve analysis and effect of various objective which are treated as features/variables for modelling purposes on the quality of wine for two different classes of wine. The last column contains the assigned quality to the given wine sample based on various features which we can treat as target values for regression problem. Exact quantification can be found in attached documentaion which validates its use for scienctific purposes especially regression and feature selection"
   ]
  },
  {
   "cell_type": "markdown",
   "metadata": {},
   "source": [
    "1 b) Explore = invloves identifying feautures , target values , whether their are any null points or not, identify outliers\n",
    "\n",
    "Visulaise = maybe print few rows (chat gpt recommendation), quantify no. of null points, outliers\n",
    "print some basic statistcs like mean median mode\n",
    "\n",
    "Preprocessing = fill null points using strategies like imputation(gpt), removing outliers\n",
    "chat gpt := which may include feature scaling, normalization, or encoding categorical variables."
   ]
  },
  {
   "cell_type": "code",
   "execution_count": 55,
   "metadata": {},
   "outputs": [],
   "source": [
    "import pandas as pd\n",
    "import types\n",
    "import numpy as np\n",
    "from sklearn.model_selection import train_test_split, GridSearchCV\n",
    "from sklearn.ensemble import RandomForestRegressor\n",
    "from sklearn.svm import SVR\n",
    "from sklearn.preprocessing import StandardScaler\n",
    "from sklearn.metrics import mean_squared_error\n",
    "from sklearn.experimental import enable_iterative_imputer\n",
    "from sklearn.impute import IterativeImputer\n",
    "from sklearn.model_selection import train_test_split\n",
    "from sklearn.ensemble import RandomForestClassifier\n",
    "from sklearn.svm import SVC\n",
    "from keras.models import Sequential\n",
    "from keras.layers import Dense\n",
    "from sklearn.metrics import accuracy_score\n",
    "from sklearn.inspection import permutation_importance\n",
    "from keras.wrappers.scikit_learn import KerasRegressor\n",
    "from keras.wrappers.scikit_learn import KerasClassifier\n",
    "from sklearn.feature_selection import RFECV\n",
    "import time\n",
    "import matplotlib.pyplot as plt"
   ]
  },
  {
   "cell_type": "code",
   "execution_count": 53,
   "metadata": {},
   "outputs": [],
   "source": [
    "##explore and visualize\n",
    "\n",
    "# Load the dataset\n",
    "wine_red = pd.read_csv(\"winequality-red.csv\", sep=';')\n",
    "wine_white = pd.read_csv(\"winequality-white.csv\", sep=';')\n",
    "\n",
    "##deeisplay various parameters asosciated with data\n",
    "##convection input matrix = N x D\n",
    "\n",
    "##no. of rows = no of samples\n",
    "N_red = wine_red.shape[0] ##axis 0\n",
    "N_white = wine_white.shape[0] ##axis 0\n",
    "##no of features= no of columns - 1(target column)\n",
    "D_red = wine_red.shape[1] - 1 ##axis 1\n",
    "D_white = wine_white.shape[1] - 1 ##axis 1 \n",
    "\n",
    "##seperate features and target\n",
    "featuresRed = wine_red.drop('quality', axis=1)##quality = target selectds all columns expect quality\n",
    "targetRed = wine_red['quality']\n",
    "featuresWhite = wine_white.drop('quality', axis=1)\n",
    "targetWhite = wine_white['quality']\n",
    "\n",
    "##desriptive stats assosciated with data ref : https://www.w3schools.com/python/pandas/ref_df_describe.asp \n",
    "Des_Red = wine_red.describe() ##obj connecting description (mean , median mode, max etc of data)\n",
    "Des_white = wine_white.describe()\n",
    "\n",
    "##null points\n",
    "##ref chat gpt ,is_null converts every datapoint to bool (Non empty => 0 empty => non zero)\n",
    "NullCountRed = wine_red.isnull().sum() ##sum all non zero gives null count in every column\n",
    "NullCountWhite = wine_white.isnull().sum()\n",
    "\n",
    "##outliers bas\n",
    "##ref : chatgpt IQR method basically calculate data range within which 50% of middle data points\n",
    "def count_outliers(df, columnName):\n",
    "    Q1 = df[columnName].quantile(0.25) # first quartile of data\n",
    "    Q3 = df[columnName].quantile(0.75)# rnd quartile \n",
    "    IQR = Q3 - Q1  #3 range we are assuming to contain data (excluding outliers)\n",
    "    lower_bound = Q1 - 1.5 * IQR ##chat gpt selected appropriate limits below which we can easily say data is outlier\n",
    "    upper_bound = Q3 + 1.5 * IQR\n",
    "     ##chat gpt syntax\n",
    "     ##only selects that part of selected column of dataframe which lies in limits\n",
    "    df_removedOutliers = (df[columnName] >= lower_bound) & (df[columnName] <= upper_bound)\n",
    "    OutliersCount = df_removedOutliers.shape - df_removedOutliers.sum() ##only true i.e 1 counted in sum\n",
    "    return OutliersCount"
   ]
  },
  {
   "cell_type": "code",
   "execution_count": 54,
   "metadata": {},
   "outputs": [
    {
     "name": "stdout",
     "output_type": "stream",
     "text": [
      "The given data has 1599 samples\n",
      "  \n",
      "11  no. of features\n",
      " \n",
      "28 no of ouliers in target set\n",
      "  \n",
      "fixed acidity           0\n",
      "volatile acidity        0\n",
      "citric acid             0\n",
      "residual sugar          0\n",
      "chlorides               0\n",
      "free sulfur dioxide     0\n",
      "total sulfur dioxide    0\n",
      "density                 0\n",
      "pH                      0\n",
      "sulphates               0\n",
      "alcohol                 0\n",
      "quality                 0\n",
      "dtype: int64 no. of null points in each feature and target set\n",
      "\n",
      "description as follow        fixed acidity  volatile acidity  citric acid  residual sugar  \\\n",
      "count    1599.000000       1599.000000  1599.000000     1599.000000   \n",
      "mean        8.319637          0.527821     0.270976        2.538806   \n",
      "std         1.741096          0.179060     0.194801        1.409928   \n",
      "min         4.600000          0.120000     0.000000        0.900000   \n",
      "25%         7.100000          0.390000     0.090000        1.900000   \n",
      "50%         7.900000          0.520000     0.260000        2.200000   \n",
      "75%         9.200000          0.640000     0.420000        2.600000   \n",
      "max        15.900000          1.580000     1.000000       15.500000   \n",
      "\n",
      "         chlorides  free sulfur dioxide  total sulfur dioxide      density  \\\n",
      "count  1599.000000          1599.000000           1599.000000  1599.000000   \n",
      "mean      0.087467            15.874922             46.467792     0.996747   \n",
      "std       0.047065            10.460157             32.895324     0.001887   \n",
      "min       0.012000             1.000000              6.000000     0.990070   \n",
      "25%       0.070000             7.000000             22.000000     0.995600   \n",
      "50%       0.079000            14.000000             38.000000     0.996750   \n",
      "75%       0.090000            21.000000             62.000000     0.997835   \n",
      "max       0.611000            72.000000            289.000000     1.003690   \n",
      "\n",
      "                pH    sulphates      alcohol      quality  \n",
      "count  1599.000000  1599.000000  1599.000000  1599.000000  \n",
      "mean      3.311113     0.658149    10.422983     5.636023  \n",
      "std       0.154386     0.169507     1.065668     0.807569  \n",
      "min       2.740000     0.330000     8.400000     3.000000  \n",
      "25%       3.210000     0.550000     9.500000     5.000000  \n",
      "50%       3.310000     0.620000    10.200000     6.000000  \n",
      "75%       3.400000     0.730000    11.100000     6.000000  \n",
      "max       4.010000     2.000000    14.900000     8.000000  \n"
     ]
    }
   ],
   "source": [
    "##visulaize the exploration above for red data same will be for white\n",
    "outNumber = count_outliers(wine_red,\"quality\")\n",
    "\n",
    "print(f\"\"\"The given data has {N_red} samples\\n  \n",
    "{D_red}  no. of features\\n \n",
    "{outNumber[0]} no of ouliers in target set\\n  \n",
    "{NullCountRed} no. of null points in each feature and target set\\n\n",
    "description as follow {Des_Red}\"\"\")"
   ]
  },
  {
   "cell_type": "code",
   "execution_count": 16,
   "metadata": {},
   "outputs": [],
   "source": [
    "## pre processing\n",
    "\n",
    "##eliminate outliers\n",
    "def remove_outliers(df, column):\n",
    "    Q1 = df[column].quantile(0.25) # first quartile of data\n",
    "    Q3 = df[column].quantile(0.75)# rnd quartile \n",
    "    IQR = Q3 - Q1  #3 range we are assuming to contain data (excluding outliers)\n",
    "    lower_bound = Q1 - 1.5 * IQR ##chat gpt selected appropriate limits below which we can easily say data is outlier\n",
    "    upper_bound = Q3 + 1.5 * IQR\n",
    "    ##replace outliers with more appropriate values say median\n",
    "    median = df[column].median()\n",
    "    ##chat gpt syntax\n",
    "    ##basically uses lambda function to check if given data point is an outlier and if yes then replace with median\n",
    "    df[column] = df[column].apply(lambda x: median_value if x < lower_bound or x > upper_bound else x)\n",
    "    return df\n",
    "\n",
    "##fill null points\n",
    "##ref :  https://scikit-learn.org/stable/modules/impute.html from Q2 and chat gpt\n",
    "def impute_data(data):\n",
    "    ##select feautres to impute\n",
    "    features_for_imputation = data.columns.tolist()\n",
    "    # Initialize IterativeImputer\n",
    "    imputer = IterativeImputer(random_state=0)\n",
    "    # Fit and transform the data using IterativeImputer chat gpt \n",
    "    data_imputed = pd.DataFrame(imputer.fit_transform(data[features_for_imputation]), columns=features_for_imputation)\n",
    "    ##transformed data\n",
    "    data[features_for_imputation] = data_imputed\n",
    "\n",
    "\n",
    "##split data\n",
    "##ref : https://www.geeksforgeeks.org/how-to-split-the-dataset-with-scikit-learns-train_test_split-function/\n",
    "def trainTestSplit(X,y):\n",
    "    ##X = FEATURE AND Y =TARGET\n",
    "    X_train, X_temp, y_train, y_temp = train_test_split(X, y, test_size=0.3, random_state=42) ##70 % for training\n",
    "    X_val, X_test, y_val, y_test = train_test_split(X_temp, y_temp, test_size=0.5, random_state=42)\n",
    "    return [[X_train, X_test, X_val,y_train], [y_test,  y_val]]\n",
    "\n",
    "##standardize values\n",
    "def standardize(X_train, X_val, X_test):\n",
    "    # Standardize features to normalize independent features might be having different scales/units\n",
    "    #3 ref of code snippet : https://www.digitalocean.com/community/tutorials/standardscaler-function-in-python\n",
    "    scaler = StandardScaler()\n",
    "    ##scale training , testing and validation data \n",
    "    X_train_scaled = scaler.fit_transform(X_train) \n",
    "    X_val_scaled = scaler.transform(X_val)\n",
    "    X_test_scaled = scaler.transform(X_test)\n",
    "    return X_train_scaled, X_test_scaled, X_val_scaled  \n",
    "\n",
    "\n"
   ]
  },
  {
   "cell_type": "markdown",
   "metadata": {},
   "source": [
    "1 b) lets make a class for stuff done yet for this part which we can use again again across questions\n",
    "Can be directly used in comprehensive python script"
   ]
  },
  {
   "cell_type": "code",
   "execution_count": 31,
   "metadata": {},
   "outputs": [],
   "source": [
    "class ProcessedData:\n",
    "    def __init__(self,data,targetName):\n",
    "        self.targetName = targetName\n",
    "        self.data = data\n",
    "        self.N = data.shape[0] \n",
    "        self.D = data.shape[1] - 1 ##axis 1 \n",
    "        self.features = data.drop(targetName, axis=1)##quality = target selectds all columns expect quality\n",
    "        self.target = data[targetName]\n",
    "        self.description = data.describe()\n",
    "        self.NullCount= data.isnull().sum()\n",
    "        \n",
    "    def count_outliers(self, columnName):\n",
    "        df = self.data\n",
    "        Q1 = df[columnName].quantile(0.25) # first quartile of data\n",
    "        Q3 = df[columnName].quantile(0.75)# rnd quartile \n",
    "        IQR = Q3 - Q1  #3 range we are assuming to contain data (excluding outliers)\n",
    "        lower_bound = Q1 - 1.5 * IQR ##chat gpt selected appropriate limits below which we can easily say data is outlier\n",
    "        upper_bound = Q3 + 1.5 * IQR\n",
    "        df_removedOutliers = (df[columnName] >= lower_bound) & (df[columnName] <= upper_bound)\n",
    "        self.OutliersCount = df_removedOutliers.shape - df_removedOutliers.sum() ##only true i.e 1 counted in sum\n",
    "        return OutliersCount\n",
    "    \n",
    "    def remove_outliers(self, column):\n",
    "        df = self.data\n",
    "        Q1 = df[column].quantile(0.25) # first quartile of data\n",
    "        Q3 = df[column].quantile(0.75)# rnd quartile \n",
    "        IQR = Q3 - Q1  #3 range we are assuming to contain data (excluding outliers)\n",
    "        lower_bound = Q1 - 1.5 * IQR ##chat gpt selected appropriate limits below which we can easily say data is outlier\n",
    "        upper_bound = Q3 + 1.5 * IQR\n",
    "        median = df[column].median()\n",
    "        df[column] = df[column].apply(lambda x: median if x < lower_bound or x > upper_bound else x)\n",
    "        self.data = df\n",
    "        \n",
    "    def impute_data(self):\n",
    "        ##select feautres to impute\n",
    "        features_for_imputation = self.data.select_dtypes(include='number').columns ##all features are numeric for classification\n",
    "        # Initialize IterativeImputer\n",
    "        imputer = IterativeImputer(random_state=0)\n",
    "        # Fit and transform the data using IterativeImputer ref : chat gpt \n",
    "        data_imputed = pd.DataFrame(imputer.fit_transform(self.data[features_for_imputation]), columns=features_for_imputation)\n",
    "        ##transformed data\n",
    "        self.data[features_for_imputation] = data_imputed\n",
    "\n",
    "    def trainTestSplit(self):\n",
    "        ##X = FEATURE AND Y =TARGET, of new proccedData which is stored in self.data\n",
    "        ##ref gpt  both datasets only numeric feautures\n",
    "        numeric_features = self.data.select_dtypes(include='number').columns #3only select number columns\n",
    "        # Select features with numeric data\n",
    "        X = self.data[numeric_features]\n",
    "        ##in regression target column also numeric so\n",
    "        if self.targetName in X.columns:\n",
    "            X.drop(self.targetName, axis=1, inplace=True)\n",
    "        y = self.data[self.targetName]\n",
    "        self.X_train, X_temp, self.y_train, y_temp = train_test_split(X, y, test_size=0.3, random_state=42) ##70 % for training\n",
    "        self.X_val, self.X_test, self.y_val, self.y_test = train_test_split(X_temp, y_temp, test_size=0.5, random_state=42)\n",
    "\n",
    "    def standardize(self):\n",
    "        scaler = StandardScaler()\n",
    "        self.X_train_scaled = scaler.fit_transform(self.X_train) \n",
    "        self.X_val_scaled = scaler.transform(self.X_val)\n",
    "        self.X_test_scaled = scaler.transform(self.X_test)\n",
    "    "
   ]
  },
  {
   "cell_type": "markdown",
   "metadata": {},
   "source": [
    "1 c) Train, validate varying at least one hyperparameter, and test at least two types of models:\n",
    "i. Random forest\n",
    "ii. Support vector regression with RBF kernel\n",
    "iii. Neural network with single hidden layer (output layer should have linear activation)"
   ]
  },
  {
   "cell_type": "code",
   "execution_count": 46,
   "metadata": {},
   "outputs": [],
   "source": [
    "## lets make a class for each model which can be used repeatedely\n",
    "\n",
    "class model:\n",
    "    ##model for a given dataset\n",
    "    def __init__(self,ProcessedData,problem): ##pass object of type ProcessedData (have all member functions,variables)\n",
    "        self.data = ProcessedData\n",
    "        ##Processed data must have been splited in testing and training set a priori\n",
    "        self.X_train_scaled = ProcessedData.X_train_scaled  ##we need training data for this class\n",
    "        self.y_train = ProcessedData.y_train\n",
    "        self.is_regression = problem == \"regression\"\n",
    "    # 1. Random Forest  (creates multiple decesion tress and average out the prediction value of each tree)\n",
    "    ##ref chat gpt and  scikit_learn RandomForestRegressor\n",
    "    \n",
    "    def randomForest(self):        \n",
    "        ## initialize with initial random value 42(chat gpt) reproducibility\n",
    "        rf_model = RandomForestRegressor(random_state=42) if self.is_regression else RandomForestClassifier(random_state=42, max_depth=None) \n",
    "        Paramgrid_rf = {'n_estimators': [100, 200, 300], 'max_depth': [None, 5, 10]}##hyperparameters varying = no of trees, depth of trees\n",
    "        ##use GridSearchCV to minimize mean square error , and find best hyperparams to fit model on training data\n",
    "        grid_rf = GridSearchCV(rf_model, Paramgrid_rf, cv=3, scoring='neg_mean_squared_error' if self.is_regression else 'accuracy')## 3 fold verification\n",
    "        grid_rf.fit(self.X_train_scaled, self.y_train)##fit model\n",
    "        n_estimators, max_depth =  grid_rf.best_params_ #3optimum hyperparams\n",
    "        ##corresponding best model\n",
    "        Best_rf_model = grid_rf.best_estimator_\n",
    "        return Best_rf_model\n",
    "    \n",
    "    ##2. SVR using rbf kernel    \n",
    "    ##ref chat gpt and  scikit_learn SVR\n",
    "    def SVR(self):   \n",
    "        svr_model = SVR(kernel='rbf') if self.is_regression else SVC(kernel = 'rbf')##initialize with rbf kernel\n",
    "        Paramgrid_svr = {'C': [0.1, 1, 10], 'gamma': [0.1, 1, 10]}##hyperparams varying = regularization coefficient(prevents overfitting) and kernel coefficient for rbf\n",
    "        ##use GridSearchCV to minimize mean square error , and find best hyperparams to fit model on training data\n",
    "        grid_svr = GridSearchCV(svr_model, Paramgrid_svr, cv=3, scoring='neg_mean_squared_error' if self.is_regression else 'accuracy')##search on grid to find best hyperparams\n",
    "        grid_svr.fit(self.X_train_scaled, self.y_train) ##3 fit modekl\n",
    "        ##optimum c and gamma\n",
    "        c, gamma =  grid_svr.best_params_\n",
    "        ##return best model\n",
    "        return grid_svr.best_estimator_\n",
    "    \n",
    "    ##neural networks\n",
    "    ## ref https://www.analyticsvidhya.com/blog/2021/11/training-neural-network-with-keras-and-basics-of-deep-learning/\n",
    "    ## simple feedforward neural network with 1 hidden layer\n",
    "    def CreateNeuralNetwork(self):\n",
    "        nn_model = Sequential() ##linear stack of layers in keras\n",
    "        ## 10 neurons per layer, relu activation functiom\n",
    "        nn_model.add(Dense(10, input_dim=self.X_train_scaled.shape[1], activation='relu'))\n",
    "        ##output layer with linear activation as asked in Quesm ==\n",
    "        if(self.is_regression):\n",
    "            nn_model.add(Dense(1, activation='linear')) # linear activation\n",
    "            ##loss = mean sq error for regression, call adams optimizer for keras\n",
    "            nn_model.compile(optimizer='adam', loss='mean_squared_error') #minimize mean square error\n",
    "        else:\n",
    "            nn_model.add(Dense(1, activation='softmax')) ##for classification\n",
    "            nn_model.compile(optimizer='adam', loss='binary_crossentropy', metrics=['accuracy'])##cross entropy loss for classification\n",
    "        return nn_model\n",
    "    \n",
    "    ##now using kerras generate a nn model we can use\n",
    "    def NN(self):\n",
    "        if(self.is_regression):\n",
    "            nn_model = KerasRegressor(build_fn=self.CreateNeuralNetwork, epochs=50, batch_size=32, verbose=0) #3call keras(tensor flow) regressor\n",
    "        else:\n",
    "            nn_model = KerasClassifier(build_fn=self.CreateNeuralNetwork, epochs=50, batch_size=32, verbose=0)\n",
    "        ##finally fir model with training data\n",
    "        nn_model.fit(self.X_train_scaled, self.y_train)\n",
    "        return nn_model\n",
    "        "
   ]
  },
  {
   "cell_type": "markdown",
   "metadata": {},
   "source": [
    "For subsequent question from now on we can directly use these classes for processing data and deploying various models  "
   ]
  },
  {
   "cell_type": "code",
   "execution_count": 36,
   "metadata": {},
   "outputs": [
    {
     "name": "stdout",
     "output_type": "stream",
     "text": [
      "Random Forest Validation MSE: 0.3111543055555555\n",
      "SVR Validation MSE: 0.3419715627591982\n",
      "SVR Validation MSE: 0.38032304744574225\n"
     ]
    },
    {
     "name": "stderr",
     "output_type": "stream",
     "text": [
      "/tmp/ipykernel_37269/682559033.py:59: DeprecationWarning: KerasRegressor is deprecated, use Sci-Keras (https://github.com/adriangb/scikeras) instead. See https://www.adriangb.com/scikeras/stable/migration.html for help migrating.\n",
      "  nn_model = KerasRegressor(build_fn=self.CreateNeuralNetwork, epochs=50, batch_size=32, verbose=0) #3call keras(tensor flow) regressor\n"
     ]
    },
    {
     "name": "stdout",
     "output_type": "stream",
     "text": [
      "Neural Network Validation MSE: 1.101502305499468\n"
     ]
    },
    {
     "name": "stderr",
     "output_type": "stream",
     "text": [
      "/tmp/ipykernel_37269/682559033.py:59: DeprecationWarning: KerasRegressor is deprecated, use Sci-Keras (https://github.com/adriangb/scikeras) instead. See https://www.adriangb.com/scikeras/stable/migration.html for help migrating.\n",
      "  nn_model = KerasRegressor(build_fn=self.CreateNeuralNetwork, epochs=50, batch_size=32, verbose=0) #3call keras(tensor flow) regressor\n"
     ]
    },
    {
     "name": "stdout",
     "output_type": "stream",
     "text": [
      "Neural Network Validation MSE: 0.42765810829465334\n"
     ]
    }
   ],
   "source": [
    "## Q1 c using the classes we defined above\n",
    "# Load the dataset\n",
    "wine_red = pd.read_csv(\"winequality-red.csv\", sep=';')\n",
    "wine_white = pd.read_csv(\"winequality-white.csv\", sep=';')\n",
    "## create instance of class ProcessData\n",
    "Red = ProcessedData(wine_red,\"quality\")\n",
    "White = ProcessedData(wine_white,\"quality\")\n",
    "##remove outliers in target\n",
    "Red.remove_outliers(\"quality\")\n",
    "White.remove_outliers(\"quality\")\n",
    "##fill null points\n",
    "Red.impute_data()\n",
    "White.impute_data()\n",
    "##split \n",
    "Red.trainTestSplit()\n",
    "White.trainTestSplit()\n",
    "##finally standardise\n",
    "Red.standardize()\n",
    "White.standardize()\n",
    "\n",
    "##now our datasets have been processed and splitted into training test and validation \n",
    "##train the three models\n",
    "ModelRed = model(Red,\"regression\") ##instance of model class with different data\n",
    "ModelWhite = model(White,\"regression\")\n",
    "\n",
    "# Validate Random Forest model\n",
    "rfRed = ModelRed.randomForest()\n",
    "RfpredictionsRed = rfRed.predict(Red.X_val_scaled) ##model predictions on validation data\n",
    "rf_mseRed = mean_squared_error(Red.y_val, RfpredictionsRed) ##compute mean square error\\\n",
    "print(\"Random Forest Validation MSE:\",rf_mseRed)\n",
    "##for white same old same old\n",
    "rfWhite = ModelWhite.randomForest()\n",
    "RfpredictionsWhite = rfWhite.predict(White.X_val_scaled) ##model predictions on validation data\n",
    "rf_mseWhite = mean_squared_error(White.y_val, RfpredictionsWhite) ##compute mean square error\n",
    "\n",
    "## Validate SVR model\n",
    "svrRed = ModelRed.SVR() ##created model\n",
    "svr_predictionsRed = svrRed.predict(Red.X_val_scaled) ##made predictions\n",
    "svr_mseRed = mean_squared_error(Red.y_val, svr_predictionsRed)##calculated error\n",
    "print(\"SVR Validation MSE:\", svr_mseRed)\n",
    "#same for white\n",
    "svrWhite = ModelWhite.SVR()\n",
    "svr_predictionsWhite = svrWhite.predict(White.X_val_scaled)\n",
    "svr_mseWhite = mean_squared_error(White.y_val, svr_predictionsWhite)\n",
    "print(\"SVR Validation MSE:\", svr_mseWhite)\n",
    "\n",
    "# Validate Neural Network model\n",
    "nn_modelRed = ModelRed.NN() ##initialized model\n",
    "nn_predictionsRed = nn_modelRed.predict(Red.X_val_scaled) ##predict\n",
    "nn_mseRed = mean_squared_error(Red.y_val, nn_predictionsRed)## cal error\n",
    "print(\"Neural Network Validation MSE:\", nn_mseRed)\n",
    "##same for white\n",
    "nn_modelWhite = ModelWhite.NN() ##initialized model\n",
    "nn_predictionsWhite = nn_modelWhite.predict(White.X_val_scaled) ##predict\n",
    "nn_mseWhite = mean_squared_error(White.y_val, nn_predictionsWhite)## cal error\n",
    "print(\"Neural Network Validation MSE:\", nn_mseWhite)"
   ]
  },
  {
   "cell_type": "code",
   "execution_count": 37,
   "metadata": {},
   "outputs": [
    {
     "name": "stdout",
     "output_type": "stream",
     "text": [
      "Our best validated model RandomForestRegressor(n_estimators=300, random_state=42), gives an error of 0.3263209722222223 against NN which\n",
      " error of 1.0885462647398503\n"
     ]
    }
   ],
   "source": [
    "###select best model for red and white data set respectively\n",
    "##make a dictionary to store errors of various models\n",
    "errorsRed = {rfRed: rf_mseRed, svrRed: svr_mseRed,nn_modelRed: nn_mseRed}## model -> mse\n",
    "errorsWhite = {rfWhite: rf_mseWhite,svrWhite: svr_mseWhite,nn_modelWhite: nn_mseWhite}\n",
    "##best model has min mse\n",
    "BestModelRed = min(errorsRed,key=errorsRed.get) ##best model name for red dataset\n",
    "BestModelWhite = min(errorsWhite,key=errorsWhite.get)## best model name for white dataset\n",
    "\n",
    "##test the models for sense of completion test our best model against NN (clearly not best)\n",
    "PredictionBestModelRed = BestModelRed.predict(Red.X_test_scaled)##predict\n",
    "PredictionBestModelWhite = BestModelRed.predict(White.X_test_scaled)##predict\n",
    "PredictionNN = nn_modelRed.predict(Red.X_test_scaled)\n",
    "MSE_bestRed = mean_squared_error(Red.y_test,PredictionBestModelRed)##compute error\n",
    "MSE_bestWhite = mean_squared_error(White.y_test,PredictionBestModelWhite)##compute error\n",
    "MSE_NN = mean_squared_error(Red.y_test,PredictionNN)\n",
    "\n",
    "print(f\"Our best validated model {BestModelRed}, gives an error of {MSE_bestRed} against NN which\\n error of {MSE_NN}\")\n"
   ]
  },
  {
   "cell_type": "markdown",
   "metadata": {},
   "source": [
    "Q 1c) importance of features is Quantitatively characterised by different models as follows\n",
    "\n",
    "Rf = the random decesion tress provide feuture importance score as per contribution of each feature in reducing impurities of tress created. Ref :-https://scikit-learn.org/stable/auto_examples/ensemble/plot_forest_importances.html\n",
    "These scores can be extracted using scikit_learn as shown above and give us a direct estimate of feature importance\n",
    "\n",
    "SVR = coefficients of the support vectors to determine feature importance. Ref:- chat Gpt\n",
    "\n",
    "Neural Network : Don't directly provide feature importance score or qualitative estimate as done in previous models. However there are techniques like permutaion importance to provide insights into feature importance as shown here:- https://scikit-learn.org/stable/modules/permutation_importance.html\n"
   ]
  },
  {
   "cell_type": "code",
   "execution_count": 38,
   "metadata": {},
   "outputs": [
    {
     "data": {
      "image/png": "[encoded data removed]",
      "text/plain": [
       "<Figure size 1000x900 with 3 Axes>"
      ]
     },
     "metadata": {},
     "output_type": "display_data"
    }
   ],
   "source": [
    "## Feature importance scores for rf\n",
    "##ref : given above\n",
    "importances = rfRed.feature_importances_ ##extract feature importance score of model\n",
    "\n",
    "##svr\n",
    "##we consider support vectors coefficient as measure of importance\n",
    "#ref chat gpt define a function to get support vector coefficients\n",
    "def SVR_feature_importance(data,svr_model): ##modified function inputs as per need\n",
    "    # Get indices of support vectors\n",
    "    support_vector_indices = svr_model.support_\n",
    "    # Get dual coefficients (weights) for support vectors\n",
    "    dual_coefficients = np.abs(svr_model.dual_coef_.flatten()) ##as two hyperparams\n",
    "    # Calculate feature importance based on dual coefficients\n",
    "    feature_importance = np.zeros(data.X_train_scaled.shape[1]) ##initialized empty array\n",
    "    for sv_index, dual_coef in zip(support_vector_indices, dual_coefficients): ##iterate over indices and coefficients\n",
    "        if sv_index < len(svr_model.support_vectors_):\n",
    "            feature_importance += np.abs(svr_model.support_vectors_[sv_index] * dual_coef)##notion of feature imprtance as support vectors determine decesion boundary\n",
    "    ##feuture importance list containing support vectors * weights\n",
    "    # Normalize feature importance scores to range [0, 1]\n",
    "    feature_importance_normalized = feature_importance / np.max(feature_importance)\n",
    "    \n",
    "    return feature_importance_normalized\n",
    "##svr\n",
    "svr_importance = SVR_feature_importance(Red,svrRed)\n",
    "\n",
    "##nn\n",
    "## we use permutation method ref given above\n",
    "##basically we randomly shuffle value of each feature and observe degradation in model\n",
    "result = permutation_importance(nn_modelRed, Red.X_train_scaled, Red.y_train, n_repeats=10, random_state=42)## 10 iterations\n",
    "# Get feature importance scores\n",
    "nn_importance = result.importances_mean\n",
    "\n",
    "# PLOT RESULTTS\n",
    "plt.figure(figsize=(10, 9))  \n",
    "##RF\n",
    "plt.subplot(3, 1, 1)\n",
    "plt.bar(Red.features.columns, importances, label='Random Forest', color='blue')\n",
    "plt.xlabel('Features')\n",
    "plt.ylabel('Feature Importance')\n",
    "plt.xticks(rotation=90)\n",
    "plt.legend()\n",
    "\n",
    "# SVR\n",
    "plt.subplot(3, 1, 2)\n",
    "plt.bar(Red.features.columns, svr_importance, label='SVR', color='red')\n",
    "plt.xlabel('Features')\n",
    "plt.ylabel('Feature Importance')\n",
    "plt.xticks(rotation=90)\n",
    "plt.legend()\n",
    "\n",
    "# Neural Network\n",
    "plt.subplot(3, 1, 3)\n",
    "plt.bar(Red.features.columns, nn_importance, label='Single hidden layer NN', color='green')\n",
    "plt.xlabel('Features')\n",
    "plt.ylabel('Feature Importance')\n",
    "plt.xticks(rotation=90)\n",
    "plt.legend()\n",
    "\n",
    "plt.tight_layout()  # Adjust layout to prevent overlapping\n",
    "plt.show()"
   ]
  },
  {
   "cell_type": "markdown",
   "metadata": {},
   "source": []
  },
  {
   "cell_type": "markdown",
   "metadata": {},
   "source": [
    "Note : each feature importance score has been computed in a different method and convey different meaning in an absolute sense, the idea is to get a relative comparitive analysis of feuture importance accross models, Absolute scores given by different models shouldn't be compared\n",
    "\n",
    "Comment : clearly different features share fdifferent importance depending on the learning method used by model , this is because of different model complexities (rf = non linear can capture non linear variations in features more easily than SVR)\n",
    "also models may be more sensitive to specific representations of the data(feature engineering)"
   ]
  },
  {
   "cell_type": "code",
   "execution_count": 39,
   "metadata": {},
   "outputs": [
    {
     "name": "stdout",
     "output_type": "stream",
     "text": [
      "error when used Reds model on white : 0.5387609070294784 as compared to 0.3263209722222223 for red on red\n",
      "error when used Whites model on red : 0.5117581018518519 as compared to 0.5387609070294784 for whitw on white\n"
     ]
    }
   ],
   "source": [
    "## Q1 D\n",
    "\n",
    "## first approach error comparition for accuracy assessment\n",
    "##test final model for red on white\n",
    "PredictionRed = BestModelRed.predict(White.X_test_scaled)##predict\n",
    "MSERedOnWhite = mean_squared_error(White.y_test,PredictionRed)##compute error\n",
    "## whites model on red\n",
    "PredictionWhite = BestModelWhite.predict(Red.X_test_scaled)\n",
    "MSEWhiteOnRed = mean_squared_error(Red.y_test,PredictionWhite)\n",
    "print(f\"error when used Reds model on white : {MSERedOnWhite} as compared to {MSE_bestRed} for red on red\\nerror when used Whites model on red : {MSEWhiteOnRed} as compared to {MSE_bestWhite} for whitw on white\")\n"
   ]
  },
  {
   "cell_type": "markdown",
   "metadata": {},
   "source": [
    "MSE suggest that we can use Whites model on red dataset but not vice versa becuase of less magnitude of error in cross data verification conducted above\n",
    "\n"
   ]
  },
  {
   "cell_type": "markdown",
   "metadata": {},
   "source": [
    "Q2 Preliminary interpretation: the data is idle to test models for classification problem\n",
    "various variables/features correspond to genetic makeup of mice and ultimately based on genotype/behaviour and treatement we have to assign them a particular class\n",
    "\n",
    "multiple voids(null points) detected data has to be preprocessed accordingly\n",
    "\n",
    "Assumption: 4 target classes namely genotype, behaviour treatment and class, question only asks us to predict genotype so that will be my target variable"
   ]
  },
  {
   "cell_type": "code",
   "execution_count": 33,
   "metadata": {},
   "outputs": [
    {
     "name": "stdout",
     "output_type": "stream",
     "text": [
      "The given data has 1080 samples\n",
      "  \n",
      "77  no. of features\n",
      "\n",
      "MouseID      0\n",
      "DYRK1A_N     3\n",
      "ITSN1_N      3\n",
      "BDNF_N       3\n",
      "NR1_N        3\n",
      "            ..\n",
      "CaNA_N       0\n",
      "Genotype     0\n",
      "Treatment    0\n",
      "Behavior     0\n",
      "class        0\n",
      "Length: 82, dtype: int64 no. of null points in each feature and target set\n",
      "\n",
      "description as follow           DYRK1A_N      ITSN1_N       BDNF_N        NR1_N       NR2A_N  \\\n",
      "count  1077.000000  1077.000000  1077.000000  1077.000000  1077.000000   \n",
      "mean      0.425810     0.617102     0.319088     2.297269     3.843934   \n",
      "std       0.249362     0.251640     0.049383     0.347293     0.933100   \n",
      "min       0.145327     0.245359     0.115181     1.330831     1.737540   \n",
      "25%       0.288121     0.473361     0.287444     2.057411     3.155678   \n",
      "50%       0.366378     0.565782     0.316564     2.296546     3.760855   \n",
      "75%       0.487711     0.698032     0.348197     2.528481     4.440011   \n",
      "max       2.516367     2.602662     0.497160     3.757641     8.482553   \n",
      "\n",
      "            pAKT_N      pBRAF_N    pCAMKII_N      pCREB_N       pELK_N  ...  \\\n",
      "count  1077.000000  1077.000000  1077.000000  1077.000000  1077.000000  ...   \n",
      "mean      0.233168     0.181846     3.537109     0.212574     1.428682  ...   \n",
      "std       0.041634     0.027042     1.295169     0.032587     0.466904  ...   \n",
      "min       0.063236     0.064043     1.343998     0.112812     0.429032  ...   \n",
      "25%       0.205755     0.164595     2.479834     0.190823     1.203665  ...   \n",
      "50%       0.231177     0.182302     3.326520     0.210594     1.355846  ...   \n",
      "75%       0.257261     0.197418     4.481940     0.234595     1.561316  ...   \n",
      "max       0.539050     0.317066     7.464070     0.306247     6.113347  ...   \n",
      "\n",
      "             SHH_N       BAD_N      BCL2_N        pS6_N      pCFOS_N  \\\n",
      "count  1080.000000  867.000000  795.000000  1080.000000  1005.000000   \n",
      "mean      0.226676    0.157914    0.134762     0.121521     0.131053   \n",
      "std       0.028989    0.029537    0.027417     0.014276     0.023863   \n",
      "min       0.155869    0.088305    0.080657     0.067254     0.085419   \n",
      "25%       0.206395    0.136424    0.115554     0.110839     0.113506   \n",
      "50%       0.224000    0.152313    0.129468     0.121626     0.126523   \n",
      "75%       0.241655    0.174017    0.148235     0.131955     0.143652   \n",
      "max       0.358289    0.282016    0.261506     0.158748     0.256529   \n",
      "\n",
      "             SYP_N   H3AcK18_N      EGR1_N    H3MeK4_N       CaNA_N  \n",
      "count  1080.000000  900.000000  870.000000  810.000000  1080.000000  \n",
      "mean      0.446073    0.169609    0.183135    0.205440     1.337784  \n",
      "std       0.066432    0.059402    0.040406    0.055514     0.317126  \n",
      "min       0.258626    0.079691    0.105537    0.101787     0.586479  \n",
      "25%       0.398082    0.125848    0.155121    0.165143     1.081423  \n",
      "50%       0.448459    0.158240    0.174935    0.193994     1.317441  \n",
      "75%       0.490773    0.197876    0.204542    0.235215     1.585824  \n",
      "max       0.759588    0.479763    0.360692    0.413903     2.129791  \n",
      "\n",
      "[8 rows x 77 columns]\n"
     ]
    },
    {
     "name": "stderr",
     "output_type": "stream",
     "text": [
      "/home/prachit/.local/lib/python3.8/site-packages/sklearn/impute/_iterative.py:800: ConvergenceWarning: [IterativeImputer] Early stopping criterion not reached.\n",
      "  warnings.warn(\n"
     ]
    }
   ],
   "source": [
    "## we can directly utilize our process data class for this part\n",
    "##changes prertaining to classification problem\n",
    "\n",
    "# Load the dataset\n",
    "mice_data = pd.read_excel(\"Data_Cortex_Nuclear.xlsx\")\n",
    "\n",
    "##explore and visulaize data\n",
    "##ref chat gpt ##null counter ,is_null converts every datapoint to bool (Non empty => 0 empty => non zero)\n",
    "NullCountMice = mice_data.isnull().sum() ##sum all non zero gives null count in every column\n",
    "##desriptive stats assosciated with data ref : https://www.w3schools.com/python/pandas/ref_df_describe.asp \n",
    "Des_Mice = mice_data.describe() ##obj connecting description (mean , median mode, max etc of data)\n",
    "## create instance of class ProcessData\n",
    "Mice = ProcessedData(mice_data,\"Genotype\")\n",
    "N = Mice.N\n",
    "D = Mice.D - 3 - 1 ##excluding mouse id and last three targers\n",
    "print(f\"\"\"The given data has {N} samples\\n  \n",
    "{D}  no. of features\\n\n",
    "{NullCountMice} no. of null points in each feature and target set\\n\n",
    "description as follow {Des_Mice}\"\"\")\n",
    "\n",
    "##preprocess\n",
    "##fill null points\n",
    "Mice.impute_data() ##used iterative imputer method of scikit learn as per given reference\n",
    "##models every feature with missing value as function of othr features\n",
    "##split \n",
    "Mice.trainTestSplit()\n",
    "#standardise\n",
    "Mice.standardize()"
   ]
  },
  {
   "cell_type": "code",
   "execution_count": 47,
   "metadata": {},
   "outputs": [
    {
     "name": "stdout",
     "output_type": "stream",
     "text": [
      "Random Forest Validation accuracy score: 1.0\n",
      "SVR Validation accuracy score: 0.9691358024691358\n"
     ]
    },
    {
     "name": "stderr",
     "output_type": "stream",
     "text": [
      "/tmp/ipykernel_37269/1006684136.py:61: DeprecationWarning: KerasClassifier is deprecated, use Sci-Keras (https://github.com/adriangb/scikeras) instead. See https://www.adriangb.com/scikeras/stable/migration.html for help migrating.\n",
      "  nn_model = KerasClassifier(build_fn=self.CreateNeuralNetwork, epochs=50, batch_size=32, verbose=0)\n"
     ]
    },
    {
     "name": "stdout",
     "output_type": "stream",
     "text": [
      "6/6 [==============================] - 0s 1ms/step\n",
      "Neural Network Validation accuracy score: 0.4567901234567901\n"
     ]
    }
   ],
   "source": [
    "## Q 2 c \n",
    "## we have imputed data set which has been duely splitted and standardise\n",
    "\n",
    "##can be easily done using our class model with following changes\n",
    "## random forest = use RandomForestClassifier\n",
    "##SVM = SVC for classification\n",
    "## nn = use sigmoid activation function instead  \n",
    "\n",
    "##I made these changes in original class by defining a class variable is_regression\n",
    "\n",
    "##also instead of mse  I used accuracy score : https://scikit-learn.org/stable/modules/generated/sklearn.metrics.accuracy_score.html\n",
    "##train the three models\n",
    "ModelMice = model(Mice,\"classification\") ##instance of model class with different data\n",
    "\n",
    "# Validate Random Forest model\n",
    "rfMice = ModelMice.randomForest()\n",
    "RfpredictionsMice = rfMice.predict(Mice.X_val_scaled) ##model predictions on validation data\n",
    "rf_accuracy_Mice = accuracy_score(Mice.y_val, RfpredictionsMice) ##compute mean square error\\\n",
    "print(\"Random Forest Validation accuracy score:\",rf_accuracy_Mice) #normalized by default\n",
    "\n",
    "## Validate SVR model\n",
    "svrMice = ModelMice.SVR() ##created model\n",
    "svr_predictionsMice = svrMice.predict(Mice.X_val_scaled) ##made predictions\n",
    "svr_accuracy_mice = accuracy_score(Mice.y_val, svr_predictionsMice)##calculated error\n",
    "print(\"SVR Validation accuracy score:\", svr_accuracy_mice)\n",
    "\n",
    "# Validate Neural Network model\n",
    "nn_modelMice = ModelMice.NN() ##initialized model\n",
    "nn_predictionsMice = nn_modelMice.predict(Mice.X_val_scaled) ##predict\n",
    "nn_accuracy_mice = accuracy_score(Mice.y_val, nn_predictionsMice)## cal error\n",
    "print(\"Neural Network Validation accuracy score:\", nn_accuracy_mice)"
   ]
  },
  {
   "cell_type": "code",
   "execution_count": 52,
   "metadata": {},
   "outputs": [
    {
     "name": "stdout",
     "output_type": "stream",
     "text": [
      "6/6 [==============================] - 0s 1ms/step\n",
      "Our best validated model RandomForestClassifier(n_estimators=300, random_state=42), gives an accuracy of 0.9938271604938271 against NN which\n",
      "acuracy of only 0.41975308641975306\n"
     ]
    }
   ],
   "source": [
    "## test best fit model against neural network as before\n",
    "###select best model for red and white data set respectively\n",
    "##make a dictionary to store errors of various models\n",
    "accuracyMice = {rfMice: rf_accuracy_Mice, svrMice: svr_accuracy_mice,nn_modelMice: nn_accuracy_mice}## model -> mse\n",
    "##best model has max accuracy\n",
    "BestModelMice = max(accuracyMice,key=accuracyMice.get) ##best model name for red dataset\n",
    "##test the models for sense of completion test our best model against NN (clearly not best)\n",
    "PredictionBestModelMice = BestModelMice.predict(Mice.X_test_scaled)##predict\n",
    "PredictionNNClass = nn_modelMice.predict(Mice.X_test_scaled)\n",
    "Accuracy_bestMice = accuracy_score(Mice.y_test,PredictionBestModelMice)##compute error\n",
    "Accuracy_nn = accuracy_score(Mice.y_test,PredictionNNClass)\n",
    "\n",
    "print(f\"Our best validated model {BestModelMice}, gives an accuracy of {Accuracy_bestMice} against NN which\\naccuracy of only {Accuracy_nn}\")"
   ]
  },
  {
   "cell_type": "markdown",
   "metadata": {},
   "source": [
    "Rfecv : recurrsively removes features and then fit model on remaining features. It ranks importance of each feature based on impact on model performance. Here model performance is evaluated using cross verification. In 5 fold cross verification model is trained on first 4 subsets and validated on remaining 5 , this is iterated over all 5 subsets\n",
    "Removing least important features may infact improve overall performance of model\n",
    "\n",
    "ref : = https://scikit-learn.org/stable/modules/generated/sklearn.feature_selection.RFECV.html\n",
    "\n"
   ]
  },
  {
   "cell_type": "code",
   "execution_count": 60,
   "metadata": {},
   "outputs": [
    {
     "ename": "TypeError",
     "evalue": "RFECV() got an unexpected keyword argument 'step'",
     "output_type": "error",
     "traceback": [
      "\u001b[0;31m---------------------------------------------------------------------------\u001b[0m",
      "\u001b[0;31mTypeError\u001b[0m                                 Traceback (most recent call last)",
      "Cell \u001b[0;32mIn[60], line 24\u001b[0m\n\u001b[1;32m     22\u001b[0m y \u001b[38;5;241m=\u001b[39m ModelMice\u001b[38;5;241m.\u001b[39my_train\n\u001b[1;32m     23\u001b[0m \u001b[38;5;66;03m##rf\u001b[39;00m\n\u001b[0;32m---> 24\u001b[0m selected_features_rf \u001b[38;5;241m=\u001b[39m \u001b[43mdo_RFECV\u001b[49m\u001b[43m(\u001b[49m\u001b[43mrfMice\u001b[49m\u001b[43m,\u001b[49m\u001b[43m \u001b[49m\u001b[43mX\u001b[49m\u001b[43m,\u001b[49m\u001b[43m \u001b[49m\u001b[43my\u001b[49m\u001b[43m)\u001b[49m\n\u001b[1;32m     25\u001b[0m \u001b[38;5;66;03m##svc\u001b[39;00m\n\u001b[1;32m     26\u001b[0m selected_features_svr \u001b[38;5;241m=\u001b[39m do_RFECV(svr_model, X, y)\n",
      "Cell \u001b[0;32mIn[60], line 2\u001b[0m, in \u001b[0;36mdo_RFECV\u001b[0;34m(modeltype, X, y)\u001b[0m\n\u001b[1;32m      1\u001b[0m \u001b[38;5;28;01mdef\u001b[39;00m \u001b[38;5;21mdo_RFECV\u001b[39m(modeltype,X,y): \u001b[38;5;66;03m##object model\u001b[39;00m\n\u001b[0;32m----> 2\u001b[0m     selector \u001b[38;5;241m=\u001b[39m \u001b[43mRFECV\u001b[49m\u001b[43m(\u001b[49m\u001b[43mmodeltype\u001b[49m\u001b[43m,\u001b[49m\u001b[43m  \u001b[49m\u001b[43mstep\u001b[49m\u001b[38;5;241;43m=\u001b[39;49m\u001b[38;5;241;43m1\u001b[39;49m\u001b[43m,\u001b[49m\u001b[43m \u001b[49m\u001b[43mcv\u001b[49m\u001b[38;5;241;43m=\u001b[39;49m\u001b[38;5;241;43m5\u001b[39;49m\u001b[43m)\u001b[49m  \u001b[38;5;66;03m# 5-fold cross-validation\u001b[39;00m\n\u001b[1;32m      3\u001b[0m     selector \u001b[38;5;241m=\u001b[39m selector\u001b[38;5;241m.\u001b[39mfit(X, y)\n\u001b[1;32m      4\u001b[0m     OptNumber \u001b[38;5;241m=\u001b[39m selector\u001b[38;5;241m.\u001b[39mn_features_\n",
      "\u001b[0;31mTypeError\u001b[0m: RFECV() got an unexpected keyword argument 'step'"
     ]
    }
   ],
   "source": [
    "def do_RFECV(modeltype,X,y): ##object model\n",
    "    selector = RFECV(modeltype,  step=1, cv=5)  # 5-fold cross-validation\n",
    "    selector = selector.fit(X, y)\n",
    "    OptNumber = selector.n_features_\n",
    "    \n",
    "    # Plot number of features vs. cross-validation scores\n",
    "    plt.figure()\n",
    "    plt.xlabel(\"Number of features selected\")\n",
    "    plt.ylabel(\"Cross validation score (nb of correct classifications)\")\n",
    "    plt.plot(range(1, len(selector.grid_scores_) + 1), selector.grid_scores_)\n",
    "    plt.show()\n",
    "\n",
    "    # store final optimal selected features\n",
    "    ## feature selected if selection status stored in list (selector.support_) true\n",
    "    selected_features = [feature for feature, s in zip(X.columns, selector.support_) if s]\n",
    "    print(\"Selected features:\", selected_features)\n",
    "    \n",
    "    return selected_features\n",
    "\n",
    "# Perform RFECV for each model\n",
    "X = ModelMice.X_train_scaled\n",
    "y = ModelMice.y_train\n",
    "##rf\n",
    "selected_features_rf = do_RFECV(rfMice, X, y)\n",
    "##svc\n",
    "selected_features_svr = do_RFECV(svr_model, X, y)\n",
    "##nn\n",
    "selected_features_nn = do_RFECV(nn_model, X, y)\n"
   ]
  },
  {
   "cell_type": "code",
   "execution_count": null,
   "metadata": {},
   "outputs": [],
   "source": [
    "##"
   ]
  }
 ],
 "metadata": {
  "kernelspec": {
   "display_name": "Python 3",
   "language": "python",
   "name": "python3"
  },
  "language_info": {
   "codemirror_mode": {
    "name": "ipython",
    "version": 3
   },
   "file_extension": ".py",
   "mimetype": "text/x-python",
   "name": "python",
   "nbconvert_exporter": "python",
   "pygments_lexer": "ipython3",
   "version": "3.8.10"
  }
 },
 "nbformat": 4,
 "nbformat_minor": 2
}
