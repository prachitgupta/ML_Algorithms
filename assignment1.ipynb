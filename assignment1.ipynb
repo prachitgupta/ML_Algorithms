{
 "cells": [
  {
   "cell_type": "code",
   "execution_count": 22,
   "metadata": {},
   "outputs": [],
   "source": [
    "import numpy as np\n"
   ]
  },
  {
   "cell_type": "markdown",
   "metadata": {},
   "source": [
    "Question1 \n",
    "\n",
    "To generate a random 2 d array from normal distribution numpy has a function numpy.random.randn\n",
    "uses mean = 0 and standard deviation 1\n",
    "\n",
    "Reference : https://numpy.org/doc/stable/reference/random/generated/numpy.random.randn.html\n",
    "\n",
    "Concept : \n",
    "In the context of linear regression, correlations refer to the degree to which independent variables are related to each other. Each column of random matrix is a feature independenlty sampled from normal distribution, by changing S we determine the degree of relation or correlations between these features \n",
    "S = I implies no correlations\n",
    "Source : chat-gpt\n",
    "\n",
    "coding structure -> self"
   ]
  },
  {
   "cell_type": "code",
   "execution_count": 23,
   "metadata": {},
   "outputs": [],
   "source": [
    "def generate_input_data(n, S):\n",
    "    m = 5 ## arbitary chosen no. of columns/features\n",
    "    ##generate random matrix of size NXM\n",
    "    random_matrix = np.random.randn(n,m)\n",
    "    ##GENERATE INPUT DATA MATRIX using np.dot for matrix multiplication\n",
    "    X = np.dot(random_matrix,S)\n",
    "    ## X HAS no. of columns equal to desired outputs and each rows corresponds to sample\n",
    "    return X\n",
    "   \n",
    "    "
   ]
  },
  {
   "cell_type": "code",
   "execution_count": 24,
   "metadata": {},
   "outputs": [],
   "source": [
    "## test function\n",
    "N = 100 ## SAMPLING SIZE\n",
    "D = 2 # NO OF OUTPUTS\n",
    "M = 5 # NO. OF FEATURES\n",
    "S = np.eye(M,D)\n",
    "#print(generate_input_data(N,S))"
   ]
  },
  {
   "cell_type": "markdown",
   "metadata": {},
   "source": []
  },
  {
   "cell_type": "markdown",
   "metadata": {},
   "source": [
    "Q2 To add zero mean gaussian noise I used numpy.random.normal as it allows specifying sigma and mean unlike randn which uses default values ref: https://numpy.org/doc/stable/reference/random/generated/numpy.random.normal.html \n",
    "dimensional mismatch (input N X D and noise is D+1 X 1) tacked by excluding 1st element from noise matrix\n",
    "Concept : simulate real world scenarios target set itself not ideal maybe measurement noise or other gaussian noice to be added"
   ]
  },
  {
   "cell_type": "code",
   "execution_count": 25,
   "metadata": {},
   "outputs": [],
   "source": [
    "def generate_target_matrix(X, w, sigma):\n",
    "    ##check dimenstional mismatch   X = N X D while w = row vector of size D+1\n",
    "    is_same = X.shape[1] == w.shape[0]\n",
    "    if(not is_same):\n",
    "        ## if mismatch reduce exclude 1st element\n",
    "        w = w[1 :]  # excluded 0TH\n",
    "        bias = w[0]\n",
    "    else:\n",
    "        bias = 0\n",
    "    ##weighted input\n",
    "    X_wt = np.dot(X,w)\n",
    "    ##ADD BIAS\n",
    "    X_biased = X_wt + bias\n",
    "    ##add gaussian noise of variance sigma\n",
    "    noise = np.random.normal(loc=0.0, scale=sigma, size= X_biased.shape)\n",
    "    ##final target set\n",
    "    t = X_biased + noise\n",
    "    return t\n",
    "    \n",
    "    \n",
    "    \n",
    "    "
   ]
  },
  {
   "cell_type": "code",
   "execution_count": 26,
   "metadata": {},
   "outputs": [],
   "source": [
    "## test target set generation\n",
    "X = generate_input_data(N,S)\n",
    "sigma = 0.1\n",
    "w = np.random.randn(D+1, 1)\n",
    "target = generate_target_matrix(X,w,sigma)\n",
    "#print(target.shape)"
   ]
  }
 ],
 "metadata": {
  "kernelspec": {
   "display_name": "Python 3",
   "language": "python",
   "name": "python3"
  },
  "language_info": {
   "codemirror_mode": {
    "name": "ipython",
    "version": 3
   },
   "file_extension": ".py",
   "mimetype": "text/x-python",
   "name": "python",
   "nbconvert_exporter": "python",
   "pygments_lexer": "ipython3",
   "version": "3.8.10"
  }
 },
 "nbformat": 4,
 "nbformat_minor": 2
}
