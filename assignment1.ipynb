{
 "cells": [
  {
   "cell_type": "code",
   "execution_count": 2,
   "metadata": {},
   "outputs": [],
   "source": [
    "import numpy as np\n",
    "import time\n",
    "import matplotlib.pyplot as plt"
   ]
  },
  {
   "cell_type": "markdown",
   "metadata": {},
   "source": [
    "Question1 \n",
    "\n",
    "To generate a random 2 d array from normal distribution numpy has a function numpy.random.randn\n",
    "uses mean = 0 and standard deviation 1\n",
    "\n",
    "Reference : https://numpy.org/doc/stable/reference/random/generated/numpy.random.randn.html\n",
    "\n",
    "Concept : \n",
    "In the context of linear regression, correlations refer to the degree to which independent variables are related to each other. Each column of random matrix is a feature independenlty sampled from normal distribution, by changing S we determine the degree of relation or correlations between these features \n",
    "S = I implies no correlations\n",
    "Source : chat-gpt\n",
    "\n",
    "coding structure -> self"
   ]
  },
  {
   "cell_type": "code",
   "execution_count": 3,
   "metadata": {},
   "outputs": [],
   "source": [
    "def generate_input_data(n, S):\n",
    "    m = 5 ## arbitary chosen no. of columns/features\n",
    "    ##generate random matrix of size NXM\n",
    "    random_matrix = np.random.randn(n,m)\n",
    "    ##GENERATE INPUT DATA MATRIX using np.dot for matrix multiplication\n",
    "    X = np.dot(random_matrix,S)\n",
    "    ## X HAS no. of columns equal to desired outputs and each rows corresponds to sample\n",
    "    return X\n",
    "   \n",
    "    "
   ]
  },
  {
   "cell_type": "code",
   "execution_count": 4,
   "metadata": {},
   "outputs": [],
   "source": [
    "## test function\n",
    "N = 100 ## SAMPLING SIZE\n",
    "D = 2 # NO OF OUTPUTS\n",
    "M = 5 # NO. OF FEATURES\n",
    "S = np.eye(M,D)\n",
    "#print(generate_input_data(N,S))"
   ]
  },
  {
   "cell_type": "markdown",
   "metadata": {},
   "source": []
  },
  {
   "cell_type": "markdown",
   "metadata": {},
   "source": [
    "Q2 To add zero mean gaussian noise I used numpy.random.normal as it allows specifying sigma and mean unlike randn which uses default values ref: https://numpy.org/doc/stable/reference/random/generated/numpy.random.normal.html \n",
    "dimensional mismatch (input N X D and noise is D+1 X 1) tacked by excluding 1st element from noise matrix\n",
    "Concept : simulate real world scenarios target set itself not ideal maybe measurement noise or other gaussian noice to be added"
   ]
  },
  {
   "cell_type": "code",
   "execution_count": 5,
   "metadata": {},
   "outputs": [],
   "source": [
    "def generate_target_matrix(X, w, sigma):\n",
    "    ##check dimenstional mismatch   X = N X D while w = row vector of size D+1\n",
    "    is_same = X.shape[1] == w.shape[0]\n",
    "    if(not is_same):\n",
    "        ## if mismatch reduce exclude 1st element\n",
    "        w = w[1 :]  # excluded 0TH\n",
    "        bias = w[0]\n",
    "    else:\n",
    "        bias = 0\n",
    "    ##weighted input\n",
    "    X_wt = np.dot(X,w)\n",
    "    ##ADD BIAS\n",
    "    X_biased = X_wt + bias\n",
    "    ##add gaussian noise of variance sigma\n",
    "    noise = np.random.normal(loc=0.0, scale=sigma, size= X_biased.shape)\n",
    "    ##final target set\n",
    "    t = X_biased + noise\n",
    "    return t\n",
    "    \n",
    "    \n",
    "    \n",
    "    "
   ]
  },
  {
   "cell_type": "code",
   "execution_count": 6,
   "metadata": {},
   "outputs": [
    {
     "name": "stdout",
     "output_type": "stream",
     "text": [
      "(100, 1)\n"
     ]
    }
   ],
   "source": [
    "## test target set generation\n",
    "X = generate_input_data(N,S)\n",
    "sigma = 0.1\n",
    "w = np.random.randn(D+1, 1)\n",
    "target = generate_target_matrix(X,w,sigma)\n",
    "print(target.shape)"
   ]
  },
  {
   "cell_type": "markdown",
   "metadata": {},
   "source": [
    "Q3 concept: pseudo inverse tackles the problem of computing inverse for least square problems when \n",
    "true inverse might not be defined i.e either X has depended variables or isn't sqauare matrix\n",
    "method used to do so is single value decomposition which is what is used by analytical solver of numpy.linalg\n",
    "package  ref: https://numpy.org/doc/stable/reference/generated/numpy.linalg.pinv.html \n",
    "\n",
    "Ideation : to analyse behavior wrt to scale and to plot log-log plots  vary the input size of N\n",
    "in powers of 10s   source : self\n",
    "\n",
    "Method to estimate time : use time library and mark time at the beginning and at end of computation \n",
    "and time duration would be given by start-end source : chat gpt"
   ]
  },
  {
   "cell_type": "code",
   "execution_count": 7,
   "metadata": {},
   "outputs": [],
   "source": [
    "def time_computation(N,D =10):\n",
    "    duration = []\n",
    "    for n in N:\n",
    "        ##use random matrix of size N to check computation\n",
    "        t = np.random.randn(n)\n",
    "        ## matrix having same size as that of input matrix\n",
    "        X = np.random.randn(n,D)\n",
    "        ##mark start time\n",
    "        start = time.time()\n",
    "        ##compute inv using np\n",
    "        np.linalg.pinv(X) @ t\n",
    "        ##mark end time\n",
    "        end = time.time()\n",
    "        ##compute duration of computation\n",
    "        d = end - start\n",
    "        ## to make a plot i need a list of duration against different values of N\n",
    "        duration.append(d)\n",
    "    return duration\n"
   ]
  },
  {
   "cell_type": "code",
   "execution_count": 13,
   "metadata": {},
   "outputs": [
    {
     "ename": "",
     "evalue": "",
     "output_type": "error",
     "traceback": [
      "\u001b[1;31mThe Kernel crashed while executing code in the current cell or a previous cell. \n",
      "\u001b[1;31mPlease review the code in the cell(s) to identify a possible cause of the failure. \n",
      "\u001b[1;31mClick <a href='https://aka.ms/vscodeJupyterKernelCrash'>here</a> for more info. \n",
      "\u001b[1;31mView Jupyter <a href='command:jupyter.viewOutput'>log</a> for further details."
     ]
    }
   ],
   "source": [
    "## analyse \n",
    "##genearate N for analysis\n",
    "N = [10**n for n in range(8)]  ##10 data points\n",
    "##generate computation time\n",
    "T = time_computation(N)\n",
    "##plot logN vs logT\n",
    "plt.figure(figsize=(10, 6))\n",
    "plt.subplot(1,2,1)\n",
    "plt.plot(np.log10(N), np.log10(T) , marker='o')\n",
    "plt.title('Time Taken upto 2.5 x 10^7')\n",
    "plt.xlabel('log of size of input (N)')\n",
    "plt.ylabel('log of Time Taken (seconds)')\n",
    "plt.grid(True)\n",
    "##kernel crashed for N = 8 onwards so seperately printing 4 x 10^7(hit and trial) onward for analysis\n",
    "N_high = [(35+n)* 10**6 for n in range(10)]\n",
    "T_high = time_computation(N_high)\n",
    "plt.subplot(1,2,2)\n",
    "plt.plot(np.log10(N_high), np.log10(T_high) , marker='o')\n",
    "plt.title('Time Taken post 2.5 x 10^7')\n",
    "plt.xlabel('log of size of input (N)')\n",
    "plt.ylabel('log of Time Taken (seconds)')\n",
    "plt.grid(True)\n",
    "plt.show()\n"
   ]
  },
  {
   "cell_type": "markdown",
   "metadata": {},
   "source": [
    "Observation :  for N upto 10^7  the computational time was within acceptable limits , the time taken was not even substantial until 10^7 even which was not more than 10s\n",
    "However for even 5 ties 10^7 compututional ime had a sudden spike which caused the kernal to crash \n",
    "\n",
    "Reasoning : the method used by pinv of numpy package is SVD which involves computing three matrix for every matrix A of which inverse has to be computed and performing matrix multiplication since size of these matrices are NXD , NXN and DXD , no .of computations increases propotionally to N\n",
    "Beyond a certain threshold, the system may run out of memory, leading to increased computational time or even a crash.\n",
    "ADDITIONAL INPUT FROM CHAT GPT : total complexity of SVD is O(N.D^2)  this is due to combined effect of matrix mutliplication computation, transpose operations and inverse of singular values\n",
    "\n"
   ]
  }
 ],
 "metadata": {
  "kernelspec": {
   "display_name": "Python 3",
   "language": "python",
   "name": "python3"
  },
  "language_info": {
   "codemirror_mode": {
    "name": "ipython",
    "version": 3
   },
   "file_extension": ".py",
   "mimetype": "text/x-python",
   "name": "python",
   "nbconvert_exporter": "python",
   "pygments_lexer": "ipython3",
   "version": "3.8.10"
  }
 },
 "nbformat": 4,
 "nbformat_minor": 2
}
